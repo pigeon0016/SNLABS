{
 "cells": [
  {
   "cell_type": "markdown",
   "id": "6ed9b58b",
   "metadata": {},
   "source": [
    "# Data Science Tools and Ecosystem"
   ]
  },
  {
   "cell_type": "markdown",
   "id": "9298ab9c",
   "metadata": {},
   "source": [
    "In this notebook, Data Science Tools and Ecosystem are summarized."
   ]
  },
  {
   "cell_type": "markdown",
   "id": "0c0c3ed0",
   "metadata": {},
   "source": [
    "Some of the popular languages that Data Scientists use are:\n",
    "\n"
   ]
  },
  {
   "cell_type": "markdown",
   "id": "83c46fa7",
   "metadata": {},
   "source": [
    "OBJECTIVES"
   ]
  },
  {
   "cell_type": "code",
   "execution_count": 22,
   "id": "c7f8be34",
   "metadata": {},
   "outputs": [
    {
     "name": "stdout",
     "output_type": "stream",
     "text": [
      "['SQL', 'java', 'python']\n"
     ]
    }
   ],
   "source": [
    "mi_lista0 = ['SQL','python','java']\n",
    "mi_lista0.sort()\n",
    "print(mi_lista0)"
   ]
  },
  {
   "cell_type": "code",
   "execution_count": 19,
   "id": "d0c3844f",
   "metadata": {},
   "outputs": [
    {
     "name": "stdout",
     "output_type": "stream",
     "text": [
      "('Java', 'SQL', 'C++', 'Python')\n"
     ]
    }
   ],
   "source": [
    "mi_lista1 = ('Java','SQL','C++','Python')\n",
    "print(mi_lista1)"
   ]
  },
  {
   "cell_type": "markdown",
   "id": "3b10efa4",
   "metadata": {},
   "source": [
    "Some of the commonly used libraries used by Data Scientists include:\n",
    "1. Pandas\n",
    "2. Numpy\n",
    "3. Matplotlib"
   ]
  },
  {
   "cell_type": "code",
   "execution_count": 4,
   "id": "22b9dedb",
   "metadata": {},
   "outputs": [
    {
     "name": "stdout",
     "output_type": "stream",
     "text": [
      "['Pandas', 'Numpy', 'Matploitlib']\n"
     ]
    }
   ],
   "source": [
    "mi_lista2 = ['Pandas','Numpy','Matploitlib']\n",
    "print(mi_lista2)"
   ]
  },
  {
   "cell_type": "markdown",
   "id": "7850665c",
   "metadata": {},
   "source": [
    "Data Science Tools"
   ]
  },
  {
   "cell_type": "code",
   "execution_count": 9,
   "id": "070743f4",
   "metadata": {},
   "outputs": [
    {
     "name": "stdout",
     "output_type": "stream",
     "text": [
      "Data Science Tools\n",
      "R\n",
      "Gitgub\n",
      "Python\n"
     ]
    }
   ],
   "source": [
    "mi_tabla1 = ['Data Science Tools','R', 'Gitgub','Python']\n",
    "\n",
    "print(mi_tabla1[0])\n",
    "print(mi_tabla1[1])\n",
    "print(mi_tabla1[2])\n",
    "print(mi_tabla1[3])\n",
    "\n"
   ]
  },
  {
   "cell_type": "markdown",
   "id": "facdb7aa",
   "metadata": {},
   "source": [
    "### below are a few examples of evaluating arithmetic expressions in Python"
   ]
  },
  {
   "cell_type": "code",
   "execution_count": 10,
   "id": "6e64217b",
   "metadata": {},
   "outputs": [
    {
     "data": {
      "text/plain": [
       "72.2568"
      ]
     },
     "execution_count": 10,
     "metadata": {},
     "output_type": "execute_result"
    }
   ],
   "source": [
    "3*5"
   ]
  },
  {
   "cell_type": "code",
   "execution_count": 11,
   "id": "fb2d5237",
   "metadata": {},
   "outputs": [
    {
     "data": {
      "text/plain": [
       "2.25"
      ]
     },
     "execution_count": 11,
     "metadata": {},
     "output_type": "execute_result"
    }
   ],
   "source": [
    "9/4"
   ]
  },
  {
   "cell_type": "code",
   "execution_count": 12,
   "id": "b6d5780b",
   "metadata": {},
   "outputs": [
    {
     "data": {
      "text/plain": [
       "88645"
      ]
     },
     "execution_count": 12,
     "metadata": {},
     "output_type": "execute_result"
    }
   ],
   "source": [
    "1878+86767"
   ]
  },
  {
   "cell_type": "code",
   "execution_count": 16,
   "id": "2c25f417",
   "metadata": {},
   "outputs": [
    {
     "data": {
      "text/plain": [
       "17"
      ]
     },
     "execution_count": 16,
     "metadata": {},
     "output_type": "execute_result"
    }
   ],
   "source": [
    "#this a simple arithmetic expression to multiply then add integers \n",
    "(3*4)+5 "
   ]
  },
  {
   "cell_type": "code",
   "execution_count": 18,
   "id": "c9e0a431",
   "metadata": {},
   "outputs": [
    {
     "data": {
      "text/plain": [
       "3.3333333333333335"
      ]
     },
     "execution_count": 18,
     "metadata": {},
     "output_type": "execute_result"
    }
   ],
   "source": [
    "#this will convert 200 minutes to hours by diving by 60\n",
    "200/60"
   ]
  },
  {
   "cell_type": "markdown",
   "id": "7a1bdc00",
   "metadata": {},
   "source": [
    "## Author"
   ]
  },
  {
   "cell_type": "markdown",
   "id": "154ea2fd",
   "metadata": {},
   "source": [
    "Braulio HIram Gutierrez Roldan"
   ]
  }
 ],
 "metadata": {
  "kernelspec": {
   "display_name": "Python 3 (ipykernel)",
   "language": "python",
   "name": "python3"
  },
  "language_info": {
   "codemirror_mode": {
    "name": "ipython",
    "version": 3
   },
   "file_extension": ".py",
   "mimetype": "text/x-python",
   "name": "python",
   "nbconvert_exporter": "python",
   "pygments_lexer": "ipython3",
   "version": "3.11.5"
  }
 },
 "nbformat": 4,
 "nbformat_minor": 5
}
